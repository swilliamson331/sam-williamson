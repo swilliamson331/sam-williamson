{
 "cells": [
  {
   "cell_type": "code",
   "execution_count": 130,
   "id": "024969ee",
   "metadata": {
    "scrolled": true
   },
   "outputs": [
    {
     "name": "stdout",
     "output_type": "stream",
     "text": [
      "Team A had a corner 3 shot distribution of 7.143%\n",
      "Team A had a non corner 3 shot distribution of 32.143%\n",
      "Team A had a 2 point shot distribution of 60.714%\n",
      "Team B had a corner 3 shot distribution of 7.500%\n",
      "Team B had a non corner 3 shot distribution of 34.286%\n",
      "Team B had a 2 point shot distribution of 58.214%\n",
      "Team A had an eFG% on corner 3's of 60.000%\n",
      "Team A had an eFG% on non corner 3's of 48.333%\n",
      "Team A had an eFG% on 2 pointers of 40.000%\n",
      "Team B had an eFG% on corner 3's of 35.714%\n",
      "Team B had an eFG% on non corner 3's of 54.688%\n",
      "Team B had an eFG% on 2 pointers of 46.012%\n"
     ]
    }
   ],
   "source": [
    "import csv\n",
    "import math\n",
    "\n",
    "import pandas as pd\n",
    "shots_data = pd.read_csv(\"/Users/samwilliamson/Desktop/shots_data.csv\")\n",
    "df = pd.DataFrame(shots_data, columns= ['team','x', 'y','fgmade'])\n",
    "\n",
    "\n",
    "team_a_corner_threes = []\n",
    "team_b_corner_threes = []\n",
    "team_a_threes = []\n",
    "team_b_threes = []\n",
    "team_a_two_point = []\n",
    "team_b_two_point = []\n",
    "\n",
    "a_corner_3_made = []\n",
    "a_3_made = []\n",
    "a_2_made = []\n",
    "b_corner_3_made = []\n",
    "b_3_made = []\n",
    "b_2_made = []\n",
    "\n",
    "\n",
    "\n",
    "for index, data_point in df.iterrows():\n",
    "    x_val = data_point['x']\n",
    "    y_val = data_point['y']\n",
    "    team = data_point['team'][-1]\n",
    "    make = data_point['fgmade']\n",
    "    if team == 'A':\n",
    "        if (x_val>22 or x_val<-22) and y_val<=7.8:\n",
    "            team_a_corner_threes.append((x_val, y_val))\n",
    "            if make == 1:\n",
    "                a_corner_3_made.append((make))\n",
    "        elif (math.sqrt(x_val**2 + y_val**2)>23.75):\n",
    "            team_a_threes.append((x_val, y_val))\n",
    "            if make == 1:\n",
    "                a_3_made.append((make))\n",
    "        else:    \n",
    "            team_a_two_point.append((x_val, y_val))\n",
    "            if make == 1:\n",
    "                a_2_made.append((make))\n",
    "    else:\n",
    "        if (x_val>22 or x_val<-22) and y_val<=7.8:\n",
    "            team_b_corner_threes.append((x_val, y_val))\n",
    "            if make == 1:\n",
    "                b_corner_3_made.append((make))\n",
    "        elif (math.sqrt(x_val**2 + y_val**2)>23.75):\n",
    "            team_b_threes.append((x_val, y_val))\n",
    "            if make == 1:\n",
    "                b_3_made.append((make))\n",
    "        else:    \n",
    "            team_b_two_point.append((x_val, y_val))\n",
    "            if make == 1:\n",
    "                b_2_made.append((make))\n",
    "            \n",
    "corner_3_pct_a = (len(team_a_corner_threes)/280)\n",
    "non_corner_3_pct_a = (len(team_a_threes)/280)\n",
    "two_pct_a = (len(team_a_two_point)/280)\n",
    "print(\"Team A had a corner 3 shot distribution of\", \"{:.3%}\".format(corner_3_pct_a))\n",
    "print(\"Team A had a non corner 3 shot distribution of\", \"{:.3%}\".format(non_corner_3_pct_a))\n",
    "print(\"Team A had a 2 point shot distribution of\", \"{:.3%}\".format(two_pct_a))\n",
    "\n",
    "corner_3_pct_b = (len(team_b_corner_threes)/280)\n",
    "non_corner_3_pct_b = (len(team_b_threes)/280)\n",
    "two_pct_b = (len(team_b_two_point)/280)\n",
    "print(\"Team B had a corner 3 shot distribution of\", \"{:.3%}\".format(corner_3_pct_b))\n",
    "print(\"Team B had a non corner 3 shot distribution of\", \"{:.3%}\".format(non_corner_3_pct_b))\n",
    "print(\"Team B had a 2 point shot distribution of\", \"{:.3%}\".format(two_pct_b))\n",
    "\n",
    "print(\"Team A had an eFG% on corner 3's of\",\"{:.3%}\".format((1.5*len(a_corner_3_made))/len(team_a_corner_threes)))\n",
    "print(\"Team A had an eFG% on non corner 3's of\",\"{:.3%}\".format((1.5*len(a_3_made))/len(team_a_threes)))\n",
    "print(\"Team A had an eFG% on 2 pointers of\",\"{:.3%}\".format((len(a_2_made))/len(team_a_two_point)))\n",
    "print(\"Team B had an eFG% on corner 3's of\",\"{:.3%}\".format((1.5*len(b_corner_3_made))/len(team_b_corner_threes)))\n",
    "print(\"Team B had an eFG% on non corner 3's of\",\"{:.3%}\".format((1.5*len(b_3_made))/len(team_b_threes)))\n",
    "print(\"Team B had an eFG% on 2 pointers of\",\"{:.3%}\".format((len(b_2_made))/len(team_b_two_point)))\n",
    "\n"
   ]
  },
  {
   "cell_type": "code",
   "execution_count": null,
   "id": "51abd507",
   "metadata": {},
   "outputs": [],
   "source": []
  },
  {
   "cell_type": "code",
   "execution_count": null,
   "id": "3406c426",
   "metadata": {},
   "outputs": [],
   "source": []
  },
  {
   "cell_type": "code",
   "execution_count": null,
   "id": "0385b6ce",
   "metadata": {},
   "outputs": [],
   "source": []
  }
 ],
 "metadata": {
  "kernelspec": {
   "display_name": "Python 3",
   "language": "python",
   "name": "python3"
  },
  "language_info": {
   "codemirror_mode": {
    "name": "ipython",
    "version": 3
   },
   "file_extension": ".py",
   "mimetype": "text/x-python",
   "name": "python",
   "nbconvert_exporter": "python",
   "pygments_lexer": "ipython3",
   "version": "3.8.8"
  }
 },
 "nbformat": 4,
 "nbformat_minor": 5
}
